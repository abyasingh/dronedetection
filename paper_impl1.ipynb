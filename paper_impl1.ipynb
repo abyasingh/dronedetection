{
 "cells": [
  {
   "cell_type": "code",
   "execution_count": 1,
   "id": "52c8058d",
   "metadata": {},
   "outputs": [],
   "source": [
    "import numpy as np\n",
    "import pandas as pd"
   ]
  },
  {
   "cell_type": "code",
   "execution_count": 2,
   "id": "f31e5536",
   "metadata": {},
   "outputs": [],
   "source": [
    "db = pd.read_csv('C:/Users/singh/Downloads/smol.csv')"
   ]
  },
  {
   "cell_type": "code",
   "execution_count": 3,
   "id": "12582a82",
   "metadata": {},
   "outputs": [
    {
     "data": {
      "text/plain": [
       "Index(['Make', 'Model', 'Index', 'RawData', 'ScaleFactor', 'NumSamples',\n",
       "       'Duration', 'Fs', 'CroppedData_1', 'CroppedData_2',\n",
       "       ...\n",
       "       'CroppedData_999993', 'CroppedData_999994', 'CroppedData_999995',\n",
       "       'CroppedData_999996', 'CroppedData_999997', 'CroppedData_999998',\n",
       "       'CroppedData_999999', 'CroppedData_1000000', 'CroppedData_1000001',\n",
       "       'Features'],\n",
       "      dtype='object', length=1000010)"
      ]
     },
     "execution_count": 3,
     "metadata": {},
     "output_type": "execute_result"
    }
   ],
   "source": [
    "db.columns"
   ]
  },
  {
   "cell_type": "code",
   "execution_count": 3,
   "id": "76e74ede",
   "metadata": {},
   "outputs": [],
   "source": [
    "bd = np.transpose(db)\n",
    "column_names = ['DJI1', 'DJI2', 'DJI3', 'DJI4', 'DJI5', 'DJI6','DJI7', 'DJI8', 'DJI9', 'DJI10', 'DJI11', 'DJI12', 'DJI13', 'DJI14', 'DJI15', 'DJI16', 'DJI17']\n",
    "bd.columns = column_names\n",
    "bd = bd.drop(index='Make')\n",
    "bd = bd.drop(index='Model')\n",
    "bd = bd.drop(index='RawData')\n",
    "bd = bd.drop(index='NumSamples')\n",
    "bd = bd.drop(index='Duration')\n",
    "bd = bd.drop(index='Fs')\n",
    "bd = bd.drop(index='Features')\n",
    "bd = bd.drop(index='ScaleFactor')"
   ]
  },
  {
   "cell_type": "code",
   "execution_count": 5,
   "id": "71dace99",
   "metadata": {},
   "outputs": [
    {
     "name": "stdout",
     "output_type": "stream",
     "text": [
      "                      DJI1  DJI2    DJI3   DJI4    DJI5   DJI6  DJI7  DJI8  \\\n",
      "Index                    1     1       1      1       1      1     1     1   \n",
      "CroppedData_1          310   291      -9    288   -1054    274  -220   200   \n",
      "CroppedData_2          206   107      27    584    -602     18    -8   164   \n",
      "CroppedData_3          -26  -137     391    460     -22     78    52  -172   \n",
      "CroppedData_4         -186  -253     463     24     -90    282    64  -240   \n",
      "...                    ...   ...     ...    ...     ...    ...   ...   ...   \n",
      "CroppedData_999997   -4194     7  -10153   -516  -19994  -3982  -424  -476   \n",
      "CroppedData_999998   -1882  -305  -10213  -1596  -14502   -142  1824  6244   \n",
      "CroppedData_999999    1462  -849   -4825  -1676    1594   3774  2872  9124   \n",
      "CroppedData_1000000   3894  -861    2875   -812   13394   5550  2380  6568   \n",
      "CroppedData_1000001   3862  -269    9399    356   16506   4370   684   432   \n",
      "\n",
      "                      DJI9   DJI10  DJI11   DJI12  DJI13   DJI14  DJI15  \\\n",
      "Index                    1       1      1       1      1       1      1   \n",
      "CroppedData_1         -193     -54    104     -14     -5     344     56   \n",
      "CroppedData_2         -325      94     52     254   -153     276    108   \n",
      "CroppedData_3         -197      62    -12     -42    -49     136    -72   \n",
      "CroppedData_4          -85      30   -168    -266   -177      56   -276   \n",
      "...                    ...     ...    ...     ...    ...     ...    ...   \n",
      "CroppedData_999997     991  -19338   3084   -6838  -8389    6572  -5384   \n",
      "CroppedData_999998   -4285  -10638  16780  -14890   2787   -1332   7668   \n",
      "CroppedData_999999   -7177    4158  20780  -14966  12443   -8392  16436   \n",
      "CroppedData_1000000  -6085   16790  12840   -6770  15275  -10664  15912   \n",
      "CroppedData_1000001  -1765   19738  -2656    5414   9627   -6804   6500   \n",
      "\n",
      "                     DJI16   DJI17  \n",
      "Index                    1       1  \n",
      "CroppedData_1         -261     122  \n",
      "CroppedData_2         -513     198  \n",
      "CroppedData_3         -657     142  \n",
      "CroppedData_4         -693     282  \n",
      "...                    ...     ...  \n",
      "CroppedData_999997   -9085   14866  \n",
      "CroppedData_999998    7759   11590  \n",
      "CroppedData_999999   20279    1730  \n",
      "CroppedData_1000000  21091   -8906  \n",
      "CroppedData_1000001   9479  -14542  \n",
      "\n",
      "[1000002 rows x 17 columns]\n"
     ]
    }
   ],
   "source": [
    "print(bd)"
   ]
  },
  {
   "cell_type": "code",
   "execution_count": 4,
   "id": "a740ba43",
   "metadata": {},
   "outputs": [],
   "source": [
    "def haar_wavelet_transform(signal):\n",
    "    n = len(signal)\n",
    "    output = np.zeros(n)\n",
    "    temp = np.zeros(n)\n",
    "    h = 1/np.sqrt(2)\n",
    "    for i in range(0, n - 1, 2):\n",
    "        output[i // 2] = h * (signal[i] + signal[i + 1])\n",
    "        temp[i // 2] = h * (signal[i] - signal[i + 1])\n",
    "\n",
    "    return output, temp\n",
    "\n",
    "data = bd;\n",
    "decomposition_results = {}\n",
    "column_names = ['DJI{}'.format(i) for i in range(1, 18)]\n",
    "\n",
    "for column_name in column_names:\n",
    "    drone_data = data[column_name].values.astype(float)\n",
    "    detail_coeffs = drone_data\n",
    "    approxs = []\n",
    "    for stage in range(3):\n",
    "        approx_coeffs, detail_coeffs = haar_wavelet_transform(detail_coeffs)\n",
    "        approxs.append(approx_coeffs)\n",
    "\n",
    "    decomposition_results[column_name] = {\n",
    "        'detail_coefficients': detail_coeffs,\n",
    "        'approx_coefficients_stage_1': approxs[0],\n",
    "        'approx_coefficients_stage_2': approxs[1],\n",
    "        'approx_coefficients_stage_3': approxs[2]\n",
    "    }\n",
    "filtered_data = detail_coeffs"
   ]
  },
  {
   "cell_type": "code",
   "execution_count": 5,
   "id": "9f39abc7",
   "metadata": {},
   "outputs": [
    {
     "data": {
      "text/plain": [
       "array([-322.79424561,  -36.76955262,  138.59292911, ...,    0.        ,\n",
       "          0.        ,    0.        ])"
      ]
     },
     "execution_count": 5,
     "metadata": {},
     "output_type": "execute_result"
    }
   ],
   "source": [
    "decomposition_results['DJI1']['approx_coefficients_stage_3']"
   ]
  },
  {
   "cell_type": "code",
   "execution_count": 6,
   "id": "251c38cf",
   "metadata": {},
   "outputs": [],
   "source": [
    "data = bd['DJI1']\n",
    "T1 = 3*(np.std(data, axis=0))\n",
    "T2 = -3*(np.std(data, axis=0))\n",
    "\n",
    "BELOW_T1 = 0\n",
    "BETWEEN_T1_T2 = 1\n",
    "ABOVE_T2 = 2\n",
    "\n",
    "def map_to_state(value, T1, T2):\n",
    "    if value < T1:\n",
    "        return BELOW_T1\n",
    "    elif value < T2:\n",
    "        return BETWEEN_T1_T2\n",
    "    else:\n",
    "        return ABOVE_T2\n",
    "\n",
    "states = [map_to_state(value, T1, T2) for value in data]"
   ]
  },
  {
   "cell_type": "code",
   "execution_count": 6,
   "id": "e845ac51",
   "metadata": {},
   "outputs": [
    {
     "name": "stdout",
     "output_type": "stream",
     "text": [
      "Index                      1\n",
      "CroppedData_1            310\n",
      "CroppedData_2            206\n",
      "CroppedData_3            -26\n",
      "CroppedData_4           -186\n",
      "                       ...  \n",
      "CroppedData_999997     -4194\n",
      "CroppedData_999998     -1882\n",
      "CroppedData_999999      1462\n",
      "CroppedData_1000000     3894\n",
      "CroppedData_1000001     3862\n",
      "Name: DJI1, Length: 1000002, dtype: object\n"
     ]
    }
   ],
   "source": [
    "print(data)"
   ]
  },
  {
   "cell_type": "code",
   "execution_count": 7,
   "id": "f787282e",
   "metadata": {},
   "outputs": [
    {
     "name": "stdout",
     "output_type": "stream",
     "text": [
      "<class 'pandas.core.series.Series'>\n"
     ]
    }
   ],
   "source": [
    "print(type(data))"
   ]
  },
  {
   "cell_type": "code",
   "execution_count": 7,
   "id": "9f8eb3a6",
   "metadata": {},
   "outputs": [
    {
     "name": "stdout",
     "output_type": "stream",
     "text": [
      "Index                      1\n",
      "CroppedData_1            310\n",
      "CroppedData_2            206\n",
      "CroppedData_3            -26\n",
      "CroppedData_4           -186\n",
      "                       ...  \n",
      "CroppedData_999997     -4194\n",
      "CroppedData_999998     -1882\n",
      "CroppedData_999999      1462\n",
      "CroppedData_1000000     3894\n",
      "CroppedData_1000001     3862\n",
      "Name: DJI1, Length: 1000002, dtype: object\n"
     ]
    }
   ],
   "source": [
    "# data = data.drop(index = 'detail_coeffs')\n",
    "print(data)"
   ]
  },
  {
   "cell_type": "code",
   "execution_count": 8,
   "id": "f4e95e4f",
   "metadata": {},
   "outputs": [
    {
     "name": "stdout",
     "output_type": "stream",
     "text": [
      "                      DJI1  detail_coeffs\n",
      "Index                    1     -59.750523\n",
      "CroppedData_1          310     -98.994949\n",
      "CroppedData_2          206      65.053824\n",
      "CroppedData_3          -26    -224.859956\n",
      "CroppedData_4         -186     209.303607\n",
      "...                    ...            ...\n",
      "CroppedData_999997   -4194       0.000000\n",
      "CroppedData_999998   -1882       0.000000\n",
      "CroppedData_999999    1462       0.000000\n",
      "CroppedData_1000000   3894       0.000000\n",
      "CroppedData_1000001   3862       0.000000\n",
      "\n",
      "[1000002 rows x 2 columns]\n"
     ]
    }
   ],
   "source": [
    "data = data.to_frame()\n",
    "data['detail_coeffs'] = decomposition_results['DJI1']['detail_coefficients']\n",
    "print(data)"
   ]
  },
  {
   "cell_type": "code",
   "execution_count": 9,
   "id": "61d10230",
   "metadata": {},
   "outputs": [
    {
     "name": "stdout",
     "output_type": "stream",
     "text": [
      "                      DJI1  detail_coeffs  label\n",
      "Index                    1     -59.750523      1\n",
      "CroppedData_1          310     -98.994949      1\n",
      "CroppedData_2          206      65.053824      1\n",
      "CroppedData_3          -26    -224.859956      1\n",
      "CroppedData_4         -186     209.303607      1\n",
      "...                    ...            ...    ...\n",
      "CroppedData_999997   -4194       0.000000      0\n",
      "CroppedData_999998   -1882       0.000000      0\n",
      "CroppedData_999999    1462       0.000000      0\n",
      "CroppedData_1000000   3894       0.000000      0\n",
      "CroppedData_1000001   3862       0.000000      0\n",
      "\n",
      "[1000002 rows x 3 columns]\n"
     ]
    }
   ],
   "source": [
    "# data = data.drop('DJI1', axis=1)\n",
    "data['label'] = data['detail_coeffs'].apply(lambda x: 1 if x != 0 else 0)\n",
    "print(data)"
   ]
  },
  {
   "cell_type": "code",
   "execution_count": 10,
   "id": "5a5ff1e2",
   "metadata": {},
   "outputs": [],
   "source": [
    "yT_uav = data[data['label'] == 1]['detail_coeffs'].values\n",
    "yT_noise = data[data['label'] == 0]['detail_coeffs'].values"
   ]
  },
  {
   "cell_type": "code",
   "execution_count": 11,
   "id": "ad9b3ef6",
   "metadata": {},
   "outputs": [],
   "source": [
    "labels = data['label']\n",
    "TN = np.zeros((3, 3), dtype=int)\n",
    "\n",
    "def calculate_transition_matrix(yT):\n",
    "    states = np.zeros(len(yT), dtype=int)\n",
    "    for i, value in enumerate(yT):\n",
    "        if value > T1:\n",
    "            states[i] = 0  \n",
    "        elif T2 <= value <= T1:\n",
    "            states[i] = 1  \n",
    "        else:\n",
    "            states[i] = 2  \n",
    "            \n",
    "    transition_counts = np.zeros((3, 3), dtype=int)\n",
    "    for i in range(1, len(states)):\n",
    "        prev_state = states[i - 1]\n",
    "        current_state = states[i]\n",
    "        transition_counts[prev_state, current_state] += 1\n",
    "        TN[prev_state, states] += 1\n",
    "\n",
    "\n",
    "    transition_prob_matrix = np.zeros((3, 3))\n",
    "    for i in range(3):\n",
    "        total_transitions_from_state = np.sum(transition_counts[i])\n",
    "        if total_transitions_from_state > 0:\n",
    "            transition_prob_matrix[i] = transition_counts[i] / total_transitions_from_state\n",
    "\n",
    "#     transition_prob = np.nan_to_num(transition_counts / transition_count.sum(axis=1, keepdims=True))\n",
    "    return transition_prob_matrix"
   ]
  },
  {
   "cell_type": "code",
   "execution_count": 13,
   "id": "881ad4db",
   "metadata": {},
   "outputs": [
    {
     "name": "stdout",
     "output_type": "stream",
     "text": [
      "Transition Probability Matrix for UAV:\n",
      "[[6.55172414e-01 3.44827586e-01 0.00000000e+00]\n",
      " [8.01410482e-05 9.99847732e-01 7.21269434e-05]\n",
      " [0.00000000e+00 3.33333333e-01 6.66666667e-01]]\n"
     ]
    }
   ],
   "source": [
    "transition_matrix_uav = calculate_transition_matrix(yT_uav)\n",
    "print(\"Transition Probability Matrix for UAV:\")\n",
    "print(transition_matrix_uav)"
   ]
  },
  {
   "cell_type": "code",
   "execution_count": 14,
   "id": "37b14b44",
   "metadata": {},
   "outputs": [
    {
     "name": "stdout",
     "output_type": "stream",
     "text": [
      "Transition Probability Matrix for Noise:\n",
      "[[0. 0. 0.]\n",
      " [0. 1. 0.]\n",
      " [0. 0. 0.]]\n"
     ]
    }
   ],
   "source": [
    "transition_matrix_noise = calculate_transition_matrix(yT_noise)\n",
    "print(\"Transition Probability Matrix for Noise:\")\n",
    "print(transition_matrix_noise)"
   ]
  },
  {
   "cell_type": "code",
   "execution_count": 15,
   "id": "a1cc3493",
   "metadata": {},
   "outputs": [
    {
     "name": "stdout",
     "output_type": "stream",
     "text": [
      "Transition Number Matrix for Test Signal:\n",
      " [[     58      58      58]\n",
      " [ 249560 1876750  249560]\n",
      " [     54      54      54]]\n"
     ]
    }
   ],
   "source": [
    "print(\"Transition Number Matrix for Test Signal:\\n\", TN)"
   ]
  },
  {
   "cell_type": "code",
   "execution_count": 17,
   "id": "be7e7043",
   "metadata": {},
   "outputs": [
    {
     "name": "stdout",
     "output_type": "stream",
     "text": [
      "Classified as noise\n"
     ]
    },
    {
     "name": "stderr",
     "output_type": "stream",
     "text": [
      "C:\\Users\\singh\\AppData\\Local\\Temp\\ipykernel_15156\\3543434879.py:14: RuntimeWarning: invalid value encountered in double_scalars\n",
      "  posterior_uav = (likelihood_uav * prior_uav) / evidence\n",
      "C:\\Users\\singh\\AppData\\Local\\Temp\\ipykernel_15156\\3543434879.py:15: RuntimeWarning: invalid value encountered in double_scalars\n",
      "  posterior_noise = (likelihood_noise * prior_noise) / evidence\n"
     ]
    }
   ],
   "source": [
    "def calculate_likelihood(yT, transition_prob_matrix, tn_matrix):\n",
    "    likelihood = 1.0\n",
    "    for i in range(3):\n",
    "        for j in range(3):\n",
    "            likelihood *= transition_prob_matrix[i, j] ** tn_matrix[i, j]\n",
    "    return likelihood\n",
    "\n",
    "def calculate_posterior(yT, tp_uav, tp_noise, tn_matrix, prior_uav=0.5, prior_noise=0.5):\n",
    "    likelihood_uav = calculate_likelihood(yT, tp_uav, tn_matrix)\n",
    "    likelihood_noise = calculate_likelihood(yT, tp_noise, tn_matrix)\n",
    "    \n",
    "    evidence = (likelihood_uav * prior_uav) + (likelihood_noise * prior_noise)\n",
    "    \n",
    "    posterior_uav = (likelihood_uav * prior_uav) / evidence\n",
    "    posterior_noise = (likelihood_noise * prior_noise) / evidence\n",
    "    \n",
    "    return posterior_uav, posterior_noise\n",
    "\n",
    "posterior_uav, posterior_noise = calculate_posterior(data, transition_matrix_uav, transition_matrix_noise, TN)\n",
    "\n",
    "if posterior_uav >= posterior_noise:\n",
    "    print(\"Classified as UAV signal\")\n",
    "else:\n",
    "    print(\"Classified as noise\")\n"
   ]
  },
  {
   "cell_type": "code",
   "execution_count": null,
   "id": "a5ac1354",
   "metadata": {},
   "outputs": [],
   "source": [
    "values = data.values\n",
    "yT = data\n",
    "\n",
    "def calculate_transition_matrix(states):\n",
    "    TN = np.zeros((3, 3))\n",
    "    for i in range(len(states) - 1):\n",
    "        TN[states[i], states[i+1]] += 1\n",
    "    total_transitions = np.sum(TN)\n",
    "    TP = TN / total_transitions\n",
    "    return TP\n",
    "noise_signals = yT_noise  \n",
    "\n",
    "all_noise_values = []\n",
    "for yT in yT_noise:\n",
    "    all_noise_values.extend(yT)\n",
    "sigma = np.std(all_noise_values)\n",
    "\n",
    "uav_signals = yT_uav  \n",
    "\n",
    "all_uav_states = []\n",
    "for yT in yT_uav:\n",
    "    all_uav_states.extend(calculate_states(yT, T1, T2))\n",
    "tp_uav = calculate_transition_matrix(all_uav_states)\n",
    "\n",
    "all_noise_states = []\n",
    "for yT in yT_noise:\n",
    "    all_noise_states.extend(calculate_states(yT, T1, T2))\n",
    "tp_noise = calculate_transition_matrix(all_noise_states)"
   ]
  },
  {
   "cell_type": "code",
   "execution_count": null,
   "id": "ff9a957d",
   "metadata": {},
   "outputs": [],
   "source": [
    "likelihood_C1 = np.prod(np.power(transition_matrix_uav, TN))\n",
    "likelihood_C0 = np.prod(np.power(transition_matrix_noise, TN))\n",
    "\n",
    "\n",
    "likelihood_C1 = 1.0\n",
    "for i in range(3):\n",
    "    for j in range(3):\n",
    "        likelihood_C1 *= transition_matrix_uav[i, j] ** TN[i, j]\n",
    "\n",
    "likelihood_C0 = 1.0\n",
    "for i in range(3):\n",
    "    for j in range(3):\n",
    "        likelihood_C0 *= transition_matrix_noise[i, j] ** TN[i, j]\n",
    "\n",
    "print(\"P(yT | C = 1) =\", likelihood_C1)\n",
    "print(\"P(yT | C = 0) =\", likelihood_C0)"
   ]
  },
  {
   "cell_type": "code",
   "execution_count": null,
   "id": "e90be9b8",
   "metadata": {},
   "outputs": [],
   "source": [
    "\n"
   ]
  },
  {
   "cell_type": "code",
   "execution_count": null,
   "id": "de9381da",
   "metadata": {},
   "outputs": [],
   "source": [
    "\n"
   ]
  },
  {
   "cell_type": "code",
   "execution_count": null,
   "id": "bb5e1c8c",
   "metadata": {},
   "outputs": [],
   "source": []
  }
 ],
 "metadata": {
  "kernelspec": {
   "display_name": "Python 3 (ipykernel)",
   "language": "python",
   "name": "python3"
  },
  "language_info": {
   "codemirror_mode": {
    "name": "ipython",
    "version": 3
   },
   "file_extension": ".py",
   "mimetype": "text/x-python",
   "name": "python",
   "nbconvert_exporter": "python",
   "pygments_lexer": "ipython3",
   "version": "3.10.9"
  }
 },
 "nbformat": 4,
 "nbformat_minor": 5
}
