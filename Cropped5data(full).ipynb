{
 "cells": [
  {
   "cell_type": "code",
   "execution_count": 1,
   "id": "c39c307c",
   "metadata": {},
   "outputs": [],
   "source": [
    "import numpy as np\n",
    "import pandas as pd"
   ]
  },
  {
   "cell_type": "code",
   "execution_count": 2,
   "id": "48335751",
   "metadata": {},
   "outputs": [],
   "source": [
    "file = 'C:/Users/singh/Downloads/smol5_has5cropped.csv'\n",
    "data = pd.read_csv(file)\n",
    "\n",
    "# print(data)"
   ]
  },
  {
   "cell_type": "code",
   "execution_count": 3,
   "id": "3c4f66d0",
   "metadata": {},
   "outputs": [],
   "source": [
    "bd = np.transpose(data)\n",
    "bd = bd.drop(index='Make')\n",
    "bd = bd.drop(index='RawData')\n",
    "bd = bd.drop(index='NumSamples')\n",
    "bd = bd.drop(index='Duration')\n",
    "bd = bd.drop(index='Fs')\n",
    "bd = bd.drop(index='Features')\n",
    "bd = bd.drop(index='ScaleFactor')\n",
    "bd = bd.drop(index='Model')\n",
    "bd = bd.drop(index='Index')"
   ]
  },
  {
   "cell_type": "code",
   "execution_count": 7,
   "id": "3b8bc2e0",
   "metadata": {},
   "outputs": [],
   "source": []
  },
  {
   "cell_type": "code",
   "execution_count": 4,
   "id": "a8b6c8cf",
   "metadata": {},
   "outputs": [
    {
     "name": "stdout",
     "output_type": "stream",
     "text": [
      "                        0      1      2      3      4     5     6     7   \\\n",
      "CroppedData_1          310     22    390   -116    221   291   -82    87   \n",
      "CroppedData_2          206    -70    374    140    209   107  -110   143   \n",
      "CroppedData_3          -26    -26     50    272     57  -137  -202   211   \n",
      "CroppedData_4         -186    -26    -66    228   -147  -253  -214   123   \n",
      "CroppedData_5          -18   -102    118    220   -279  -301     2    -9   \n",
      "...                    ...    ...    ...    ...    ...   ...   ...   ...   \n",
      "CroppedData_999997   -4194  -4734  -3946  -3792  -5023     7   -70  -405   \n",
      "CroppedData_999998   -1882  -2402  -1594  -1944  -3019  -305  -338  -493   \n",
      "CroppedData_999999    1462   1458   1650    948    697  -849  -250  -265   \n",
      "CroppedData_1000000   3894   4086   3674   3108   3901  -861   -70   211   \n",
      "CroppedData_1000001   3862   4054   3462   3700   4697  -269   130   399   \n",
      "\n",
      "                        8     9   ...     75      76      77      78      79  \\\n",
      "CroppedData_1         -398   282  ...   -261     206       1       7     -94   \n",
      "CroppedData_2         -154    -6  ...   -513     410      17     135    -142   \n",
      "CroppedData_3           26  -130  ...   -657     242     269      95    -130   \n",
      "CroppedData_4         -162   -46  ...   -693      26     317     -25     -82   \n",
      "CroppedData_5         -222   -38  ...   -589      30     225     115      62   \n",
      "...                    ...   ...  ...    ...     ...     ...     ...     ...   \n",
      "CroppedData_999997   -1454  -302  ...  -9085  -19834  -12707  -20597  -14054   \n",
      "CroppedData_999998    -482   -54  ...   7759   -6974    3553   -9565    2202   \n",
      "CroppedData_999999     566   326  ...  20279    9702   17797    6703   16834   \n",
      "CroppedData_1000000   1222   654  ...  21091   20994   22193   18835   21462   \n",
      "CroppedData_1000001   1342   562  ...   9479   20410   13941   19863   13786   \n",
      "\n",
      "                         80      81      82      83      84  \n",
      "CroppedData_1           122    -147     145     105     192  \n",
      "CroppedData_2           198    -103      -3     117     -32  \n",
      "CroppedData_3           142     209    -151    -227      52  \n",
      "CroppedData_4           282      73     -99    -207     148  \n",
      "CroppedData_5           450    -179     -59    -163     -52  \n",
      "...                     ...     ...     ...     ...     ...  \n",
      "CroppedData_999997    14866   13145   14869   14613   12904  \n",
      "CroppedData_999998    11590    4769   11153    8181    4712  \n",
      "CroppedData_999999     1730   -6111     837   -2951   -6120  \n",
      "CroppedData_1000000   -8906  -13815   -9607  -12215  -13744  \n",
      "CroppedData_1000001  -14542  -13931  -14515  -14643  -13792  \n",
      "\n",
      "[1000001 rows x 85 columns]\n"
     ]
    }
   ],
   "source": [
    "print(bd)"
   ]
  },
  {
   "cell_type": "code",
   "execution_count": 5,
   "id": "3f4ebd0d",
   "metadata": {},
   "outputs": [
    {
     "name": "stdout",
     "output_type": "stream",
     "text": [
      "RangeIndex(start=0, stop=85, step=1)\n"
     ]
    }
   ],
   "source": [
    "print(bd.columns)"
   ]
  },
  {
   "cell_type": "code",
   "execution_count": 6,
   "id": "7c745985",
   "metadata": {},
   "outputs": [
    {
     "name": "stdout",
     "output_type": "stream",
     "text": [
      "                        4     9      14     19      24     29     34     39  \\\n",
      "CroppedData_1          221   282      0    -15     167    -53     55    118   \n",
      "CroppedData_2          209    -6     40    -95      75   -121    -29    178   \n",
      "CroppedData_3           57  -130    -44   -227     -57   -145   -141     38   \n",
      "CroppedData_4         -147   -46   -292   -107      19   -157   -121   -270   \n",
      "CroppedData_5         -279   -38   -272    113     159     47     11   -298   \n",
      "...                    ...   ...    ...    ...     ...    ...    ...    ...   \n",
      "CroppedData_999997   -5023  -302  -8284  -1303  -18793   9043   3715   4370   \n",
      "CroppedData_999998   -3019   -54   -600  -2211  -10709   3275   2119   8470   \n",
      "CroppedData_999999     697   326   7184  -2079    2971  -4097   -853   7906   \n",
      "CroppedData_1000000   3901   654  10964   -847   14711  -8965  -3309   2590   \n",
      "CroppedData_1000001   4697   562   8692    949   18587  -8861  -3401  -4538   \n",
      "\n",
      "                        44      49     54      59     64      69      74  \\\n",
      "CroppedData_1         -303     -89   -141      94    321     184    -101   \n",
      "CroppedData_2         -143    -189   -201     -74   -171    -108     -77   \n",
      "CroppedData_3           57     -85     83    -170   -131    -120     143   \n",
      "CroppedData_4          105    -137    571     102    349     -56     -29   \n",
      "CroppedData_5           41    -273    559     298    329    -304    -437   \n",
      "...                    ...     ...    ...     ...    ...     ...     ...   \n",
      "CroppedData_999997    7185   18243   6287   -4326  -8823    4932  -10069   \n",
      "CroppedData_999998    4421   17675  19435  -14162   2417   -3492    2311   \n",
      "CroppedData_999999    -879    7535  21599  -16002  12349   -9860   13467   \n",
      "CroppedData_1000000  -5591   -6573  11531   -8930  15365  -10844   17099   \n",
      "CroppedData_1000001  -7199  -17437  -4993    2782   9973   -6020   11019   \n",
      "\n",
      "                         79      84  \n",
      "CroppedData_1           -94     192  \n",
      "CroppedData_2          -142     -32  \n",
      "CroppedData_3          -130      52  \n",
      "CroppedData_4           -82     148  \n",
      "CroppedData_5            62     -52  \n",
      "...                     ...     ...  \n",
      "CroppedData_999997   -14054   12904  \n",
      "CroppedData_999998     2202    4712  \n",
      "CroppedData_999999    16834   -6120  \n",
      "CroppedData_1000000   21462  -13744  \n",
      "CroppedData_1000001   13786  -13792  \n",
      "\n",
      "[1000001 rows x 17 columns]\n"
     ]
    }
   ],
   "source": [
    "bd1= bd[bd.columns[::5]]\n",
    "bd2 = bd[bd.columns[1::5]]\n",
    "bd3 = bd[bd.columns[2::5]]\n",
    "bd4 = bd[bd.columns[3::5]]\n",
    "bd5 = bd[bd.columns[4::5]]\n",
    "\n",
    "print(bd5)"
   ]
  },
  {
   "cell_type": "code",
   "execution_count": 7,
   "id": "a4be4e4f",
   "metadata": {},
   "outputs": [],
   "source": [
    "column_names = ['DJI1', 'DJI2', 'DJI3', 'DJI4', 'DJI5', 'DJI6','DJI7', 'DJI8', 'DJI9', 'DJI10', 'DJI11', 'DJI12', 'DJI13', 'DJI14', 'DJI15', 'DJI16', 'DJI17']\n",
    "bd1.columns = column_names\n",
    "bd2.columns = column_names\n",
    "bd3.columns = column_names\n",
    "bd4.columns = column_names\n",
    "bd5.columns = column_names"
   ]
  },
  {
   "cell_type": "code",
   "execution_count": 8,
   "id": "303c177c",
   "metadata": {},
   "outputs": [
    {
     "name": "stdout",
     "output_type": "stream",
     "text": [
      "                      DJI1  DJI2    DJI3   DJI4    DJI5   DJI6  DJI7  DJI8  \\\n",
      "CroppedData_1          310   291      -9    288   -1054    274  -220   200   \n",
      "CroppedData_2          206   107      27    584    -602     18    -8   164   \n",
      "CroppedData_3          -26  -137     391    460     -22     78    52  -172   \n",
      "CroppedData_4         -186  -253     463     24     -90    282    64  -240   \n",
      "CroppedData_5          -18  -301     107    -60      30    218   164   -24   \n",
      "...                    ...   ...     ...    ...     ...    ...   ...   ...   \n",
      "CroppedData_999997   -4194     7  -10153   -516  -19994  -3982  -424  -476   \n",
      "CroppedData_999998   -1882  -305  -10213  -1596  -14502   -142  1824  6244   \n",
      "CroppedData_999999    1462  -849   -4825  -1676    1594   3774  2872  9124   \n",
      "CroppedData_1000000   3894  -861    2875   -812   13394   5550  2380  6568   \n",
      "CroppedData_1000001   3862  -269    9399    356   16506   4370   684   432   \n",
      "\n",
      "                      DJI9   DJI10  DJI11   DJI12  DJI13   DJI14  DJI15  \\\n",
      "CroppedData_1         -193     -54    104     -14     -5     344     56   \n",
      "CroppedData_2         -325      94     52     254   -153     276    108   \n",
      "CroppedData_3         -197      62    -12     -42    -49     136    -72   \n",
      "CroppedData_4          -85      30   -168    -266   -177      56   -276   \n",
      "CroppedData_5         -173      66   -428      18   -385     -88   -364   \n",
      "...                    ...     ...    ...     ...    ...     ...    ...   \n",
      "CroppedData_999997     991  -19338   3084   -6838  -8389    6572  -5384   \n",
      "CroppedData_999998   -4285  -10638  16780  -14890   2787   -1332   7668   \n",
      "CroppedData_999999   -7177    4158  20780  -14966  12443   -8392  16436   \n",
      "CroppedData_1000000  -6085   16790  12840   -6770  15275  -10664  15912   \n",
      "CroppedData_1000001  -1765   19738  -2656    5414   9627   -6804   6500   \n",
      "\n",
      "                     DJI16   DJI17  \n",
      "CroppedData_1         -261     122  \n",
      "CroppedData_2         -513     198  \n",
      "CroppedData_3         -657     142  \n",
      "CroppedData_4         -693     282  \n",
      "CroppedData_5         -589     450  \n",
      "...                    ...     ...  \n",
      "CroppedData_999997   -9085   14866  \n",
      "CroppedData_999998    7759   11590  \n",
      "CroppedData_999999   20279    1730  \n",
      "CroppedData_1000000  21091   -8906  \n",
      "CroppedData_1000001   9479  -14542  \n",
      "\n",
      "[1000001 rows x 17 columns]\n"
     ]
    }
   ],
   "source": [
    "print(bd1)"
   ]
  },
  {
   "cell_type": "code",
   "execution_count": 293,
   "id": "8c926853",
   "metadata": {},
   "outputs": [],
   "source": [
    "import matplotlib.pyplot as plt\n",
    "s9_1 = bd1['DJI9'].values\n",
    "s9_2 = bd2['DJI9'].values\n",
    "s9_3 = bd3['DJI9'].values\n",
    "s9_4 = bd4['DJI9'].values\n",
    "s9_5 = bd5['DJI9'].values\n",
    "\n",
    "\n",
    "window_size = 256  \n",
    "hop_size = window_size // 2  \n",
    "nfft = 512  \n",
    "\n",
    "window = np.hanning(window_size)\n",
    "\n",
    "frequencies, times, spectrogram = [], [], []\n",
    "\n",
    "for start in range(0, len(s9_5) - window_size, hop_size):\n",
    "    segment = s9_5[start:start + window_size] * window\n",
    "    spectrum = np.fft.fft(segment, n=nfft)\n",
    "    squared_magnitude = np.abs(spectrum) ** 2\n",
    "    frequencies.append(np.fft.fftfreq(nfft))\n",
    "    times.append(start)\n",
    "    spectrogram.append(squared_magnitude)\n",
    "\n",
    "frequencies = np.array(frequencies)\n",
    "times = np.array(times)\n",
    "spectrogram = np.array(spectrogram)"
   ]
  },
  {
   "cell_type": "code",
   "execution_count": 294,
   "id": "ddcc3ea8",
   "metadata": {},
   "outputs": [],
   "source": [
    "sampling_rate = 20000000000 * 6.59E-06\n",
    "energy_trajectory = np.max(spectrogram, axis=1)\n",
    "normalized_energy_trajectory = (energy_trajectory - np.mean(energy_trajectory)) / np.std(energy_trajectory)\n",
    "times_in_microseconds = (times / sampling_rate) * 1e6\n",
    "\n",
    "delta_mean = np.diff(normalized_energy_trajectory)\n",
    "delta_variance = np.diff(np.square(normalized_energy_trajectory))\n",
    "\n",
    "index_of_max_change = np.argmax(np.abs(delta_mean))\n",
    "\n",
    "from scipy.stats import skew, kurtosis\n",
    "energy_transient = normalized_energy_trajectory[index_of_max_change:]\n",
    "mean_energy_transient = np.mean(energy_transient)\n",
    "std_energy_transient = np.std(energy_transient)\n",
    "variance_energy_transient = std_energy_transient ** 2\n",
    "skewness_energy_transient = skew(energy_transient)\n",
    "kurtosis_energy_transient = kurtosis(energy_transient)"
   ]
  },
  {
   "cell_type": "code",
   "execution_count": 295,
   "id": "8e137899",
   "metadata": {},
   "outputs": [],
   "source": [
    "def extract_features(energy_transient):\n",
    "    mean_energy_transient = np.mean(energy_transient)\n",
    "    std_energy_transient = np.std(energy_transient)\n",
    "    variance_energy_transient = std_energy_transient ** 2\n",
    "    skewness_energy_transient = skew(energy_transient)\n",
    "    kurtosis_energy_transient = kurtosis(energy_transient)\n",
    "    \n",
    "    p = np.abs(np.fft.fft(energy_transient)) ** 2\n",
    "    p = p / np.sum(p)  \n",
    "    energy_spectral_entropy = -np.sum(p * np.log2(p))\n",
    "    \n",
    "    return {\n",
    "        'Mean': mean_energy_transient,\n",
    "        'Variance': variance_energy_transient,\n",
    "        'Skewness': skewness_energy_transient,\n",
    "        'Kurtosis': kurtosis_energy_transient,\n",
    "        'Energy Spectral Entropy': energy_spectral_entropy\n",
    "    }\n",
    "\n",
    "drones_features = {}\n",
    "features = extract_features(energy_transient)\n",
    "drones_features[\"DJI13\"] = features\n",
    "\n",
    "feature_names = ['Mean', 'Variance', 'Skewness', 'Kurtosis', 'Energy Spectral Entropy']\n",
    "\n",
    "for i, feature in enumerate(feature_names):\n",
    "    values = [drones_features[drone][feature] for drone in drones_features]"
   ]
  },
  {
   "cell_type": "code",
   "execution_count": 296,
   "id": "2f890e8c",
   "metadata": {},
   "outputs": [
    {
     "name": "stdout",
     "output_type": "stream",
     "text": [
      "DJI9\n",
      "Mean: 0.9989968058367322\n",
      "Variance: 0.0014328816657677092\n",
      "Skewness: -7.860456773055267\n",
      "Kurtosis: 233.16617117210006\n",
      "Energy Spectral Entropy: 0.02764284917561613\n",
      "\n",
      "\n"
     ]
    }
   ],
   "source": [
    "for drone in drones_features:\n",
    "    print(\"DJI9\")\n",
    "    for feature in drones_features[drone]:\n",
    "        print(f\"{feature}: {drones_features[drone][feature]}\")\n",
    "    print(\"\\n\")"
   ]
  },
  {
   "cell_type": "code",
   "execution_count": 297,
   "id": "bad6b5ad",
   "metadata": {},
   "outputs": [],
   "source": [
    "output = \"\"\"\n",
    "DJI9\n",
    "Mean: 0.9989968058367322\n",
    "Variance: 0.0014328816657677092\n",
    "Skewness: -7.860456773055267\n",
    "Kurtosis: 233.16617117210006\n",
    "Energy Spectral Entropy: 0.02764284917561613\n",
    "\"\"\"\n",
    "\n",
    "with open('DJI9_5.txt', 'w') as f:\n",
    "    f.write(output)"
   ]
  },
  {
   "cell_type": "code",
   "execution_count": 298,
   "id": "71894141",
   "metadata": {},
   "outputs": [],
   "source": [
    "def parse_data(filename):\n",
    "    with open(filename, 'r') as file:\n",
    "        lines = file.readlines()\n",
    "        \n",
    "    drone_data = []\n",
    "    drone = {}\n",
    "    \n",
    "    for line in lines:\n",
    "        line = line.strip()\n",
    "        \n",
    "        if line == \"\":\n",
    "            if drone:\n",
    "                drone_data.append(drone)\n",
    "            drone = {}\n",
    "            continue\n",
    "        \n",
    "        if ':' not in line:\n",
    "            drone['Drone_Type'] = line\n",
    "        else:\n",
    "            key, value = line.split(':')\n",
    "            drone[key.strip()] = float(value.strip())\n",
    "    \n",
    "    if drone:\n",
    "        drone_data.append(drone)\n",
    "    \n",
    "    return drone_data\n",
    "\n",
    "filenames = ['DJI1_1.txt', 'DJI1_2.txt', 'DJI1_3.txt', 'DJI1_4.txt', 'DJI1_5.txt','DJI2_1.txt', 'DJI2_2.txt', 'DJI2_3.txt', 'DJI2_4.txt', 'DJI2_5.txt', 'DJI3_1.txt', 'DJI3_2.txt', 'DJI3_3.txt', 'DJI3_4.txt', 'DJI3_5.txt', 'DJI4_1.txt', 'DJI4_2.txt', 'DJI4_3.txt', 'DJI4_4.txt', 'DJI4_5.txt', 'DJI5_1.txt', 'DJI5_2.txt', 'DJI5_3.txt', 'DJI5_4.txt', 'DJI5_5.txt', 'DJI10_1.txt', 'DJI10_2.txt', 'DJI10_3.txt', 'DJI10_4.txt', 'DJI10_5.txt', 'DJI11_1.txt', 'DJI11_2.txt', 'DJI11_3.txt', 'DJI11_4.txt', 'DJI11_5.txt','DJI12_1.txt', 'DJI12_2.txt', 'DJI12_3.txt', 'DJI12_4.txt', 'DJI12_5.txt', 'DJI13_1.txt', 'DJI13_2.txt', 'DJI13_3.txt', 'DJI13_4.txt', 'DJI13_5.txt', 'DJI14_1.txt', 'DJI14_2.txt', 'DJI14_3.txt', 'DJI14_4.txt', 'DJI14_5.txt', 'DJI5_1.txt', 'DJI15_2.txt', 'DJI15_3.txt', 'DJI15_4.txt', 'DJI15_5.txt', 'DJI16_1.txt', 'DJI16_2.txt', 'DJI16_3.txt', 'DJI16_4.txt', 'DJI16_5.txt', 'DJI17_1.txt', 'DJI17_2.txt', 'DJI17_3.txt', 'DJI17_4.txt', 'DJI17_5.txt', 'DJI6_1.txt', 'DJI6_2.txt', 'DJI6_3.txt', 'DJI6_4.txt', 'DJI6_5.txt', 'DJI7_1.txt', 'DJI7_2.txt', 'DJI7_3.txt', 'DJI7_4.txt', 'DJI7_5.txt', 'DJI8_1.txt', 'DJI8_2.txt', 'DJI8_3.txt', 'DJI8_4.txt', 'DJI8_5.txt', 'DJI9_1.txt', 'DJI9_2.txt', 'DJI9_3.txt', 'DJI9_4.txt', 'DJI9_5.txt'] \n",
    "\n",
    "drone_data = []\n",
    "\n",
    "for filename in filenames:\n",
    "    drone_data.extend(parse_data(filename))  \n",
    "\n",
    "df = pd.DataFrame(drone_data)"
   ]
  },
  {
   "cell_type": "code",
   "execution_count": 299,
   "id": "816a832d",
   "metadata": {},
   "outputs": [
    {
     "name": "stdout",
     "output_type": "stream",
     "text": [
      "   Drone_Type      Mean  Variance  Skewness    Kurtosis  \\\n",
      "0        DJI1  0.650912  1.454102  1.405409    1.923051   \n",
      "1        DJI1  0.665873  1.489457  1.390628    1.805569   \n",
      "2        DJI1  0.520961  0.996282  0.995916    0.381053   \n",
      "3        DJI1  0.675428  1.537935  1.391658    1.728464   \n",
      "4        DJI1  0.686671  1.530232  1.346617    1.563169   \n",
      "..        ...       ...       ...       ...         ...   \n",
      "80       DJI9  0.938929  0.001206 -6.509500  186.717382   \n",
      "81       DJI9  0.881766  0.001213 -6.255226  181.079135   \n",
      "82       DJI9  0.467303  0.002117 -7.343324  249.222844   \n",
      "83       DJI9  0.678517  0.001361 -8.435887  286.455390   \n",
      "84       DJI9  0.998997  0.001433 -7.860457  233.166171   \n",
      "\n",
      "    Energy Spectral Entropy  \n",
      "0                  4.453173  \n",
      "1                  4.367787  \n",
      "2                  4.280684  \n",
      "3                  4.264866  \n",
      "4                  4.194821  \n",
      "..                      ...  \n",
      "80                 0.026422  \n",
      "81                 0.029460  \n",
      "82                 0.160266  \n",
      "83                 0.054475  \n",
      "84                 0.027643  \n",
      "\n",
      "[85 rows x 6 columns]\n"
     ]
    }
   ],
   "source": [
    "print(df)"
   ]
  },
  {
   "cell_type": "code",
   "execution_count": 300,
   "id": "932a7925",
   "metadata": {},
   "outputs": [
    {
     "name": "stdout",
     "output_type": "stream",
     "text": [
      "Confusion Matrix: \n",
      " [[2 0 0 0 0 0 0 0 0 0 0 0 0 0]\n",
      " [0 1 0 0 0 0 0 0 0 0 0 0 0 0]\n",
      " [0 0 1 0 0 0 0 0 0 0 0 0 0 0]\n",
      " [0 0 0 1 0 0 0 0 0 0 0 0 0 0]\n",
      " [0 0 0 0 1 0 0 0 0 0 0 0 0 0]\n",
      " [0 0 0 0 0 1 0 0 0 0 0 0 0 0]\n",
      " [0 0 0 0 0 0 1 0 0 0 0 0 0 0]\n",
      " [0 0 0 0 0 0 0 2 0 0 0 0 0 0]\n",
      " [0 0 0 0 0 0 0 0 1 0 0 0 0 0]\n",
      " [0 0 0 0 0 0 0 0 0 1 0 0 0 0]\n",
      " [0 0 0 0 0 0 0 0 1 0 1 0 0 0]\n",
      " [1 0 0 0 0 0 0 0 0 0 0 0 0 0]\n",
      " [0 0 0 0 0 0 0 0 0 0 0 0 1 0]\n",
      " [0 0 0 0 0 0 0 0 0 0 0 0 0 1]]\n",
      "Accuracy Score:  0.8823529411764706\n"
     ]
    }
   ],
   "source": [
    "from sklearn.model_selection import train_test_split\n",
    "from sklearn.preprocessing import StandardScaler\n",
    "from sklearn.neighbors import KNeighborsClassifier\n",
    "from sklearn.metrics import confusion_matrix, accuracy_score\n",
    "\n",
    "feature_names = ['Mean', 'Variance', 'Skewness', 'Kurtosis', 'Energy Spectral Entropy']\n",
    "\n",
    "X = df[feature_names]\n",
    "y = df['Drone_Type']\n",
    "\n",
    "X_train, X_test, y_train, y_test = train_test_split(X, y, test_size=0.2, random_state=42)\n",
    "\n",
    "scaler = StandardScaler()\n",
    "X_train = scaler.fit_transform(X_train)\n",
    "X_test = scaler.transform(X_test)\n",
    "\n",
    "knn = KNeighborsClassifier(n_neighbors=1)\n",
    "knn.fit(X_train, y_train)\n",
    "\n",
    "y_pred = knn.predict(X_test)\n",
    "\n",
    "print(\"Confusion Matrix: \\n\", confusion_matrix(y_test, y_pred))\n",
    "print(\"Accuracy Score: \", accuracy_score(y_test, y_pred))\n"
   ]
  },
  {
   "cell_type": "code",
   "execution_count": null,
   "id": "71cb7d93",
   "metadata": {},
   "outputs": [],
   "source": []
  }
 ],
 "metadata": {
  "kernelspec": {
   "display_name": "Python 3 (ipykernel)",
   "language": "python",
   "name": "python3"
  },
  "language_info": {
   "codemirror_mode": {
    "name": "ipython",
    "version": 3
   },
   "file_extension": ".py",
   "mimetype": "text/x-python",
   "name": "python",
   "nbconvert_exporter": "python",
   "pygments_lexer": "ipython3",
   "version": "3.10.9"
  }
 },
 "nbformat": 4,
 "nbformat_minor": 5
}
